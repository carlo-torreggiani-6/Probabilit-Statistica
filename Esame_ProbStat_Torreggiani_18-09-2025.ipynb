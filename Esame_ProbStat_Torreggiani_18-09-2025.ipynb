{
 "cells": [
  {
   "cell_type": "markdown",
   "id": "21760e96-469c-4fd6-8183-b85de3dda5a1",
   "metadata": {},
   "source": [
    "# Esame di Probabilità e Statistica 18 Settembre 2025"
   ]
  },
  {
   "cell_type": "markdown",
   "id": "9fd835fb-4aff-48c8-8644-4207ccd0cc95",
   "metadata": {},
   "source": [
    "##  Carlo Bruno Torreggiani"
   ]
  },
  {
   "cell_type": "markdown",
   "id": "660529a5-8e81-4431-adbe-bf87236db7dc",
   "metadata": {},
   "source": [
    "In questo notebook si è inizialmente studiato la distribuzione del numero dei comuni divisi per numero di abitanti e di come la popolazione totale si distribuisca in tali comuni. Successivamente, si è analizzato l'andamento del tasso di crescita dei comuni per numero di abitanti, con un focus su quelli con tasso negativo. "
   ]
  },
  {
   "cell_type": "code",
   "execution_count": 59,
   "id": "2ebca4ab-f120-4540-9672-1b00bfa6d2ff",
   "metadata": {},
   "outputs": [],
   "source": [
    "%matplotlib inline\n",
    "import pandas as pd\n",
    "import numpy as np\n",
    "import scipy.stats \n",
    "import scipy\n",
    "import seaborn as sns\n",
    "import matplotlib.pylab as plt\n",
    "from PIL import Image\n",
    "import os\n",
    "import re"
   ]
  },
  {
   "cell_type": "code",
   "execution_count": 76,
   "id": "9ec0301f-c284-43c8-9688-a2e4b8dfc94e",
   "metadata": {},
   "outputs": [],
   "source": [
    "# importo i dati ############################################################################à\n",
    "#inData_Residenti = pd.read_excel(\"/Users/carlo/Downloads/ProbStat/Esame/Residenti.xlsx\", header = 1)\n",
    "#inData_Iscritti = pd.read_excel(\"/Users/carlo/Downloads/ProbStat/Esame/iscritti.xlsx\", header = 1)\n",
    "#inData_Cancellati = pd.read_excel(\"/Users/carlo/Downloads/ProbStat/Esame/Cancellati.xlsx\", header = 1)\n",
    "\n",
    "inData_Residenti = pd.read_excel(\"Residenti.xlsx\", header = 1)\n",
    "inData_Iscritti = pd.read_excel(\"iscritti.xlsx\", header = 1)\n",
    "inData_Cancellati = pd.read_excel(\"Cancellati.xlsx\", header = 1)\n",
    "\n",
    "\n",
    "# Rimuovo spazi dai nomi delle colonne per coerenza\n",
    "inData_Residenti.columns = inData_Residenti.columns.str.strip()\n",
    "inData_Iscritti.columns = inData_Iscritti.columns.str.strip()\n",
    "inData_Cancellati.columns = inData_Cancellati.columns.str.strip()\n"
   ]
  },
  {
   "cell_type": "code",
   "execution_count": 61,
   "id": "a481135e-6518-4273-bdd9-5a7958e24e71",
   "metadata": {},
   "outputs": [],
   "source": [
    "# tolgo l'ultima riga perché risulta vuota\n",
    "inData_Cancellati = inData_Cancellati.drop(inData_Cancellati.index[-1])\n",
    "inData_Residenti = inData_Residenti.drop(inData_Residenti.index[-1])\n",
    "inData_Iscritti = inData_Iscritti.drop(inData_Iscritti.index[-1])"
   ]
  },
  {
   "cell_type": "markdown",
   "id": "ebc6865e-8668-47de-af7f-708a0351310b",
   "metadata": {},
   "source": [
    "## Analisi qualitativa della popolazione contenuta nei comuni italiani"
   ]
  },
  {
   "cell_type": "markdown",
   "id": "9219aebe-ebf0-418b-b14f-b6a4c2b3bdaa",
   "metadata": {},
   "source": [
    "Si vuole studiare qualitativamente l'andamento della popolazione nei vari comuni italiani. Per farlo, ci si interessa di come varia il numero dei comuni per numero di abitanti, osservando anche come varia nel corso degli anni. Inoltre, ci si chiede se la popolazione è contenuta nella maggior parte in comuni grandi o piccoli e di come tale percentuale cambia."
   ]
  },
  {
   "cell_type": "markdown",
   "id": "8154be72-755e-445b-b3f8-6168385ec758",
   "metadata": {},
   "source": [
    "#### Studio del numero di comuni divisi per numero di abitanti"
   ]
  },
  {
   "cell_type": "code",
   "execution_count": 62,
   "id": "dde5903d-b279-4c68-a7a3-e0e124eabddd",
   "metadata": {},
   "outputs": [
    {
     "name": "stdout",
     "output_type": "stream",
     "text": [
      "   Intervallo popolazione  Numero comuni nel 2001\n",
      "0                   0-999                    1394\n",
      "1               1000-1999                    1027\n",
      "2               2000-2999                     632\n",
      "3               3000-3999                     428\n",
      "4               4000-4999                     343\n",
      "5               5000-5999                     234\n",
      "6               6000-6999                     179\n",
      "7               7000-7999                     163\n",
      "8               8000-8999                     116\n",
      "9               9000-9999                      84\n",
      "10            10000-10999                      80\n",
      "11            11000-11999                      67\n",
      "12            12000-12999                      54\n",
      "13            13000-13999                      46\n",
      "14            14000-14999                      36\n",
      "15            15000-15999                      37\n",
      "16            16000-16999                      27\n",
      "17            17000-17999                      21\n",
      "18            18000-18999                      19\n",
      "19            19000-19999                      18\n"
     ]
    }
   ],
   "source": [
    "# Creo una tabella che mi mostra i numeri di comuni divisi per numero di abitanti (2001) \n",
    "\n",
    "# Creo intervalli (bin) da 0 a 20000 con passo 1000\n",
    "bins = list(range(0, 21000, 1000))\n",
    "\n",
    "# Etichette per gli intervalli\n",
    "labels = [f'{bins[i]}-{bins[i+1]-1}' for i in range(len(bins)-1)]\n",
    "\n",
    "# Assegno a ogni comune l'intervallo di appartenenza\n",
    "intervalli = pd.cut(inData_Residenti[\"2001\"], bins=bins, labels=labels, right=False)\n",
    "\n",
    "# Calcolo il numero di comuni per ogni intervallo senza somma cumulativa\n",
    "conteggio_per_intervallo = intervalli.value_counts().sort_index()\n",
    "\n",
    "# Creo la tabella finale\n",
    "tabella = pd.DataFrame({'Intervallo popolazione': conteggio_per_intervallo.index,\n",
    "                        'Numero comuni nel 2001': conteggio_per_intervallo.values})\n",
    "\n",
    "print(tabella)"
   ]
  },
  {
   "cell_type": "code",
   "execution_count": 63,
   "id": "c0c6c646-a928-4cc3-a416-096082ed8fe8",
   "metadata": {},
   "outputs": [],
   "source": [
    "\n",
    "inData_Residenti_filtrato = inData_Residenti[inData_Residenti['2001'] < 100000]\n",
    "anni = [col for col in inData_Residenti_filtrato.columns if col != 'Territorio']\n",
    "\n",
    "fig, ax = plt.subplots(figsize=(10,6))\n",
    "\n",
    "# Impostazione limiti fissi prima dell'animazione\n",
    "ax.set_xlim(0, 100000)\n",
    "ax.set_ylim(0, 1600)\n",
    "ax.grid(True)\n",
    "\n",
    "def update(frame):\n",
    "    ax.cla()  # pulisce la figura\n",
    "    anno = anni[frame]\n",
    "    data = pd.to_numeric(inData_Residenti_filtrato[anno], errors='coerce').dropna()\n",
    "    ax.hist(data, bins=100, color='skyblue')\n",
    "    ax.set_title(f'Distribuzione popolazione comuni - {anno}')\n",
    "    ax.set_xlabel('Popolazione')\n",
    "    ax.set_ylabel('Numero di comuni')\n",
    "    # Riassegno limiti fissi e disabilito autoscale\n",
    "    ax.set_xlim(0, 100000)\n",
    "    ax.set_ylim(0, 1600)\n",
    "    ax.autoscale(enable=False)\n",
    "    ax.grid(True)\n",
    "\n",
    "ani = animation.FuncAnimation(fig, update, frames=len(anni), repeat=True)\n",
    "ani.save('popolazione_comuni.gif', writer='pillow', fps=1)\n",
    "plt.close(fig)\n"
   ]
  },
  {
   "cell_type": "markdown",
   "id": "03c4de5f-823d-4609-9dd1-b92d22b59593",
   "metadata": {},
   "source": [
    "![Popolazione Comuni](popolazione_comuni.gif)"
   ]
  },
  {
   "cell_type": "markdown",
   "id": "df133498-f5d3-4536-8e44-3b0bf9f53bcd",
   "metadata": {},
   "source": [
    "Si può osservare che il numero di comuni con poche persone è nettamente maggiore di quelli con molte persone. Tale andamento non varia in modo considerevole nel corso degli anni. Sembra però che ci sia una piccola crescita nel numero di comuni con meno di 1.000 abitanti, mentre nelle fasce immediatamente successive sembra che ci sia una tendenza a diminuire. Potrebbe significare che i piccoli comuni tendono a svuotarsi e quindi a popolare maggiormente la fascia 0-1000?"
   ]
  },
  {
   "cell_type": "markdown",
   "id": "1e32d83f-32b5-490a-a384-a7f0f6faffbd",
   "metadata": {},
   "source": [
    "#### Analisi qualitativa della distribuzione della popolazione nei comuni"
   ]
  },
  {
   "cell_type": "code",
   "execution_count": 81,
   "id": "341e4362-3345-4e41-9f10-a8be5845fb7a",
   "metadata": {},
   "outputs": [],
   "source": [
    "\n",
    "# Crea cartella di output\n",
    "cartella_output = os.path.join(os.getcwd(), 'popolazione_plots')\n",
    "os.makedirs(cartella_output, exist_ok=True)\n",
    "\n",
    "# Ottieni lista anni con dati numerici (ad esempio 2002, 2003, ..., 2019)\n",
    "\n",
    "for anno in anni:\n",
    "    residente_anno = inData_Residenti.loc[inData_Residenti['Territorio'] != 'Italia'].copy()\n",
    "    residente_anno.loc[:, anno] = pd.to_numeric(residente_anno[anno], errors='coerce')\n",
    "    \n",
    "    bin_edges = list(range(0, int(residente_anno[anno].max()) + 10000, 5000))\n",
    "    labels = [f\"{bin_edges[i]}-{bin_edges[i+1]-1}\" for i in range(len(bin_edges)-1)]\n",
    "    residente_anno.loc[:, 'Fascia'] = pd.cut(residente_anno[anno], bins=bin_edges, labels=labels, right=False)\n",
    "    \n",
    "    summary = residente_anno.groupby('Fascia', observed=True)[anno].sum()\n",
    "    total = residente_anno[anno].sum()\n",
    "    percent = summary / total * 100\n",
    "    \n",
    "    tabella = pd.DataFrame({\n",
    "        'Fascia abitanti': percent.index,\n",
    "        'Percentuale popolazione': percent.values\n",
    "    })\n",
    "    \n",
    "    filtered_tabella = tabella[tabella['Percentuale popolazione'] > 0].reset_index(drop=True)\n",
    "    filtered_tabella['Percentuale cumulativa'] = filtered_tabella['Percentuale popolazione'].cumsum()\n",
    "    \n",
    "    # Plot\n",
    "    plt.figure(figsize=(12, 6))\n",
    "    plt.bar(filtered_tabella['Fascia abitanti'], filtered_tabella['Percentuale popolazione'], alpha=0.7, label='Percentuale popolazione')\n",
    "    plt.plot(filtered_tabella['Fascia abitanti'], filtered_tabella['Percentuale cumulativa'], color='red', marker='o', label='Percentuale cumulativa')\n",
    "    plt.xticks(rotation=45, ha='right')\n",
    "    plt.xlabel('Fascia abitanti')\n",
    "    plt.ylabel('Percentuale (%)')\n",
    "    plt.title(f'Distribuzione Percentuale della Popolazione per Fasce di Abitanti ({anno})')\n",
    "    plt.legend()\n",
    "    plt.grid(axis='y')\n",
    "    plt.tight_layout()\n",
    "    \n",
    "    # Salva plot\n",
    "    nome_file = os.path.join(cartella_output, f'popolazione_{anno}.png')\n",
    "    plt.savefig(nome_file)\n",
    "    plt.close()\n"
   ]
  },
  {
   "cell_type": "code",
   "execution_count": 82,
   "id": "ca7e83a9-7738-4952-a149-7d53ecce8fcd",
   "metadata": {},
   "outputs": [
    {
     "name": "stdout",
     "output_type": "stream",
     "text": [
      "GIF salvata in: /home/fd11db33-da30-4cc8-8d8a-145b3b6cb4d9/Esame/popolazione.gif\n"
     ]
    }
   ],
   "source": [
    "\n",
    "cartella_plot = os.path.join(os.getcwd(), 'popolazione_plots')\n",
    "file_names = sorted([f for f in os.listdir(cartella_plot) if f.endswith('.png')])\n",
    "\n",
    "# Carica immagini\n",
    "frames = [Image.open(os.path.join(cartella_plot, f)) for f in file_names]\n",
    "\n",
    "# Salva GIF\n",
    "output_gif_path = os.path.join(os.getcwd(), 'popolazione.gif')\n",
    "frames[0].save(\n",
    "    output_gif_path,\n",
    "    save_all=True,\n",
    "    append_images=frames[1:],\n",
    "    duration=1000,  # durata frame in ms (1000 = 1 secondo)\n",
    "    loop=0  # loop infinito\n",
    ")\n",
    "\n",
    "print(f\"GIF salvata in: {output_gif_path}\")\n"
   ]
  },
  {
   "cell_type": "markdown",
   "id": "bec2a2f1-59cd-47e9-a120-59bdc945045a",
   "metadata": {},
   "source": [
    "![Distribuzione popolazione](popolazione.gif)\n"
   ]
  },
  {
   "cell_type": "markdown",
   "id": "744ea65d-7b5b-478e-9be2-6c4d73d09103",
   "metadata": {},
   "source": [
    "Si nota che la maggior parte della popolazione (50%) è contenuta nella parte di comuni che hanno meno di 20.000 abitanti. Un contributo considerevole è anche dato dalle poche grandi città. Effettivamente, il contributo percentuale del primo bin 0-5000 è in decrescita. Anche questa analisi sembra far intendere che i piccoli comuni in questo lasso di tempo si stanno depopolando, mentre i comuni più grandi diventino più popolosi."
   ]
  },
  {
   "cell_type": "markdown",
   "id": "db4405cc-2d7c-4312-87ba-7411bf692a1b",
   "metadata": {},
   "source": [
    "## Andamento della decrescita dei piccoli comuni italiani "
   ]
  },
  {
   "cell_type": "markdown",
   "id": "1ce18e86-6907-4b38-a110-4cac67b766ca",
   "metadata": {},
   "source": [
    "##### In questa sezione viene analizzato il tasso di crescita dei piccoli comuni italiani, considerando quelli che hanno meno di 5.000 abitanti. "
   ]
  },
  {
   "cell_type": "markdown",
   "id": "590a64f0-cdb2-4bc7-a935-2155cba1e0bc",
   "metadata": {},
   "source": [
    "#### Percentuale di comuni in decrescita"
   ]
  },
  {
   "cell_type": "markdown",
   "id": "3d6c0c19-c958-48ef-af53-81bce616e0c4",
   "metadata": {},
   "source": [
    "Si studia l'andamento qualitativo dei tassi di crescita dei comuni divisi per numero di abitanti. Si costruisce un istogramma impilato che mostra in verde la percentuale di comuni che hanno un tasso di crescita positivo e in verde quelli con tasso negativo."
   ]
  },
  {
   "cell_type": "code",
   "execution_count": 83,
   "id": "73f34167-b9f1-46b6-a982-b534485ad794",
   "metadata": {},
   "outputs": [],
   "source": [
    "\n",
    "# Escludo la riga 'Italia'\n",
    "inData_Residenti_NoTot = inData_Residenti[inData_Residenti['Territorio'] != 'Italia'].copy()\n",
    "inData_Iscritti_NoTot = inData_Iscritti[inData_Iscritti['Territorio'] != 'Italia'].copy()\n",
    "inData_Cancellati_NoTot = inData_Cancellati[inData_Cancellati['Territorio'] != 'Italia'].copy()\n",
    "\n",
    "# Ottengo la lista degli anni (colonne numeriche)\n",
    "anni = [col for col in inData_Residenti_NoTot.columns if str(col).isdigit()]\n",
    "\n",
    "# Converto le colonne degli anni in numerico, evitando warning con .loc\n",
    "for df in [inData_Residenti_NoTot, inData_Iscritti_NoTot, inData_Cancellati_NoTot]:\n",
    "    for anno in anni:\n",
    "        df.loc[:, anno] = pd.to_numeric(df[anno], errors='coerce')\n",
    "\n",
    "# Calcolo saldo migratorio netto (iscritti - cancellati)\n",
    "saldo = inData_Iscritti_NoTot.set_index('Territorio')[anni] - inData_Cancellati_NoTot.set_index('Territorio')[anni]\n",
    "\n",
    "# Popolazione residente anno precedente (shiftata)\n",
    "popolazione = inData_Residenti_NoTot.set_index('Territorio')[anni]\n",
    "popolazione_shifted = popolazione.shift(axis=1)\n",
    "\n",
    "# Sostituisco 0 con NaN nel denominatore per evitare divisione per zero\n",
    "denominator = popolazione_shifted.values\n",
    "denominator_safe = np.where(denominator == 0, np.nan, denominator)\n",
    "\n",
    "# Calcolo tasso crescita netto percentuale evitando errori di divisione\n",
    "with np.errstate(divide='ignore', invalid='ignore'):\n",
    "    tasso_crescita_netto = saldo.values / denominator_safe\n",
    "    tasso_crescita_netto = tasso_crescita_netto * 100\n",
    "\n",
    "tasso_crescita_netto = pd.DataFrame(tasso_crescita_netto, index=saldo.index, columns=saldo.columns)\n",
    "\n",
    "\n",
    "\n"
   ]
  },
  {
   "cell_type": "code",
   "execution_count": 84,
   "id": "582479d3-dfa3-437f-b3be-74e0f47a84ea",
   "metadata": {},
   "outputs": [],
   "source": [
    "\n",
    "cartella_output = os.path.join(os.getcwd(), 'gif')\n",
    "os.makedirs(cartella_output, exist_ok=True)\n",
    "\n",
    "# Calcolo il limite massimo y per uniformare gli assi\n",
    "max_y = 0\n",
    "for anno_riferimento in anni:\n",
    "    popolazione_anno = inData_Residenti_NoTot.set_index('Territorio')[anno_riferimento].astype(float)\n",
    "    tasso_crescita_anno = tasso_crescita_netto[anno_riferimento]\n",
    "    df = pd.DataFrame({\n",
    "        'popolazione': popolazione_anno,\n",
    "        'tasso_crescita': tasso_crescita_anno\n",
    "    })\n",
    "    # Filtra comuni con popolazione < 10000\n",
    "    df_small = df[df['popolazione'] < 10000].copy()\n",
    "    bins = np.arange(0, 10000 + 1000, 1000)\n",
    "    df_small['pop_bin'] = pd.cut(df_small['popolazione'], bins=bins, right=False)\n",
    "    df_small['crescita_cat'] = np.where(df_small['tasso_crescita'] >= 0, 'Positivo', 'Negativo')\n",
    "    count_df = df_small.groupby(['pop_bin', 'crescita_cat'], observed=True).size().unstack(fill_value=0)\n",
    "    max_y = max(max_y, count_df.values.max())\n",
    "\n",
    "for anno_riferimento in anni:\n",
    "    popolazione_anno = inData_Residenti_NoTot.set_index('Territorio')[anno_riferimento].astype(float)\n",
    "    tasso_crescita_anno = tasso_crescita_netto[anno_riferimento]\n",
    "    df = pd.DataFrame({\n",
    "        'popolazione': popolazione_anno,\n",
    "        'tasso_crescita': tasso_crescita_anno\n",
    "    })\n",
    "    # Filtra comuni con popolazione < 10000\n",
    "    df_small = df[df['popolazione'] < 10000].copy()\n",
    "    bins = np.arange(0, 10000 + 1000, 1000)\n",
    "    labels = [f'{int(bins[i])}-{int(bins[i+1])-1}' for i in range(len(bins)-1)]\n",
    "    df_small['pop_bin'] = pd.cut(df_small['popolazione'], bins=bins, labels=labels, right=False)\n",
    "    df_small['crescita_cat'] = np.where(df_small['tasso_crescita'] >= 0, 'Positivo', 'Negativo')\n",
    "    count_df = df_small.groupby(['pop_bin', 'crescita_cat'], observed=True).size().unstack(fill_value=0)\n",
    "\n",
    "    ax = count_df.plot(kind='bar', stacked=True, figsize=(14,7), color=['crimson', 'seagreen'])\n",
    "    ax.set_xlabel('Fasce di popolazione comunale (abitanti)')\n",
    "    ax.set_ylabel('Numero di comuni')\n",
    "    ax.set_title(f'Tasso di crescita positivo/negativo per fasce popolazione\\n(Comuni < 10.000 abitanti - Anno {anno_riferimento})')\n",
    "\n",
    "    # Imposta etichette asse X con margini per evitare taglio\n",
    "    ax.set_xticks(range(len(count_df.index)))\n",
    "    ax.set_xticklabels(count_df.index, rotation=45, ha='right')\n",
    "    ax.margins(x=0.01)\n",
    "\n",
    "    plt.legend(title='Tasso di crescita')\n",
    "    plt.grid(axis='y')\n",
    "    ax.set_ylim(0, max_y * 1.9)  # margine y sopra massimo\n",
    "    plt.tight_layout()\n",
    "    plt.subplots_adjust(bottom=0.30, right=0.98, left=0.07, top=0.93)\n",
    "\n",
    "    nome_file = f'{cartella_output}/istogramma_{anno_riferimento}.png'\n",
    "    plt.savefig(nome_file)\n",
    "    plt.close()\n",
    "\n"
   ]
  },
  {
   "cell_type": "code",
   "execution_count": 85,
   "id": "a8d4cbe8-e3dd-4dea-837b-b2a44de455c0",
   "metadata": {},
   "outputs": [],
   "source": [
    "# Costruisco la GIF\n",
    "\n",
    "# Cartella 'gif' dentro la cartella di lavoro corrente\n",
    "cartella = os.path.join(os.getcwd(), 'gif')\n",
    "\n",
    "file_list = os.listdir(cartella)\n",
    "\n",
    "def estrai_anno(nome_file):\n",
    "    match = re.search(r'(\\d{4})', nome_file)\n",
    "    return int(match.group(1)) if match else 0\n",
    "\n",
    "file_list_png = sorted(\n",
    "    [f for f in file_list if f.endswith('.png') and '2019' not in f],\n",
    "    key=estrai_anno\n",
    ")\n",
    "\n",
    "frames = [Image.open(os.path.join(cartella, fname)) for fname in file_list_png]\n",
    "\n",
    "# Salva la GIF nella cartella di lavoro corrente (non dentro gif)\n",
    "output_gif = os.path.join(os.getcwd(), 'istogrammi_animati.gif')\n",
    "\n",
    "frames[0].save(\n",
    "    output_gif,\n",
    "    save_all=True,\n",
    "    append_images=frames[1:],\n",
    "    duration=1000,   # durata per frame in millisecondi\n",
    "    loop=0\n",
    ")\n",
    "\n"
   ]
  },
  {
   "cell_type": "markdown",
   "id": "685f4221-642c-4e8a-9252-2aef36616d58",
   "metadata": {},
   "source": [
    "![Animazione istogrammi](istogrammi_animati.gif)\n"
   ]
  },
  {
   "cell_type": "markdown",
   "id": "03a3d357-9acb-46a5-b0e3-1fc40f125a14",
   "metadata": {},
   "source": [
    "Sembra che per le fasce più basse ci sia un aumento del numero di comuni con tasso negativo. Si procede con un fit lineare per capire quantitativamente di quanto aumenta il numero di tali comuni. "
   ]
  },
  {
   "cell_type": "markdown",
   "id": "23bcdee5-a201-4d70-97e9-8448392e1209",
   "metadata": {},
   "source": [
    "#### Fit lineare dei comuni in decrescita"
   ]
  },
  {
   "cell_type": "markdown",
   "id": "db456b64-3d5b-4e16-a245-2f2f13adb5c1",
   "metadata": {},
   "source": [
    "Si vuole verificare che l'andamento del numero di comuni in decrescita vari linearmente negli anni. Per farlo, si procede con un fit lineare."
   ]
  },
  {
   "cell_type": "code",
   "execution_count": 86,
   "id": "62aa3836-27b9-4ee6-a3d9-63067fea8301",
   "metadata": {},
   "outputs": [],
   "source": [
    "\n",
    "# Definisci fasce di popolazione da 0 a 10000 con step 1000\n",
    "bins = np.arange(0, 10000 + 1000, 1000)\n",
    "labels = [f'{bins[i]}-{bins[i+1]-1}' for i in range(len(bins)-1)]\n",
    "\n",
    "# DataFrame per i risultati (anni come indice, fasce come colonne)\n",
    "decrescita_time = pd.DataFrame(index=anni, columns=labels)\n",
    "\n",
    "for anno in anni:\n",
    "    popolazione_anno = inData_Residenti_NoTot.set_index('Territorio')[anno].astype(float)\n",
    "    tasso_crescita_anno = tasso_crescita_netto[anno]\n",
    "    df = pd.DataFrame({\n",
    "        'popolazione': popolazione_anno,\n",
    "        'tasso_crescita': tasso_crescita_anno\n",
    "    })\n",
    "    # Filtra comuni con popolazione < 10000\n",
    "    df_small = df[df['popolazione'] < 10000].copy()\n",
    "    # Assegna fascia di popolazione\n",
    "    df_small['pop_bin'] = pd.cut(df_small['popolazione'], bins=bins, labels=labels, right=False)\n",
    "    # Seleziona solo comuni in decrescita (tasso di crescita < 0)\n",
    "    df_decrescita = df_small[df_small['tasso_crescita'] < 0]\n",
    "    # Conta i comuni per fascia\n",
    "    counts = df_decrescita.groupby('pop_bin', observed=True).size()\n",
    "    # Riempie i NaN con 0 e assegna al DataFrame risultati\n",
    "    decrescita_time.loc[anno] = counts.reindex(labels, fill_value=0)\n",
    "\n",
    "# Converte valori a interi\n",
    "decrescita_time = decrescita_time.astype(int)\n",
    "\n",
    "\n"
   ]
  },
  {
   "cell_type": "code",
   "execution_count": 87,
   "id": "cc544e0d-2853-4384-8de1-c13c7f356bea",
   "metadata": {},
   "outputs": [
    {
     "name": "stdout",
     "output_type": "stream",
     "text": [
      "Test del chi-quadro per il fit lineare di ciascuna fascia (decrescita assoluta):\n",
      "0-999: chi2 = 1339.14, df = 17, p-value = 0.0000 - fit non buono (si rifiuta H0)\n",
      "1000-1999: chi2 = 967.83, df = 17, p-value = 0.0000 - fit non buono (si rifiuta H0)\n",
      "2000-2999: chi2 = 614.99, df = 17, p-value = 0.0000 - fit non buono (si rifiuta H0)\n",
      "3000-3999: chi2 = 429.50, df = 17, p-value = 0.0000 - fit non buono (si rifiuta H0)\n",
      "4000-4999: chi2 = 296.96, df = 17, p-value = 0.0000 - fit non buono (si rifiuta H0)\n",
      "5000-5999: chi2 = 226.64, df = 17, p-value = 0.0000 - fit non buono (si rifiuta H0)\n",
      "6000-6999: chi2 = 190.70, df = 17, p-value = 0.0000 - fit non buono (si rifiuta H0)\n",
      "7000-7999: chi2 = 145.64, df = 17, p-value = 0.0000 - fit non buono (si rifiuta H0)\n",
      "8000-8999: chi2 = 121.43, df = 17, p-value = 0.0000 - fit non buono (si rifiuta H0)\n",
      "9000-9999: chi2 = 101.10, df = 17, p-value = 0.0000 - fit non buono (si rifiuta H0)\n"
     ]
    }
   ],
   "source": [
    "\n",
    "x = decrescita_time.index.astype(int).values\n",
    "\n",
    "print(\"Test del chi-quadro per il fit lineare di ciascuna fascia (decrescita assoluta):\")\n",
    "\n",
    "for fascia in labels:\n",
    "    y_obs = decrescita_time[fascia].values.astype(float)\n",
    "    \n",
    "    # Fit lineare\n",
    "    coeffs = np.polyfit(x, y_obs, 1)\n",
    "    p = np.poly1d(coeffs)\n",
    "    y_exp = p(x)  # valori attesi/previsione\n",
    "    \n",
    "    # Evita divisioni per zero (usa epsilon piccolo)\n",
    "    epsilon = 1e-6\n",
    "    y_exp_safe = np.where(y_exp < epsilon, epsilon, y_exp)\n",
    "    \n",
    "    # Calcolo statistica chi-quadro\n",
    "    chi_sq_stat = np.sum((y_obs - y_exp_safe) ** 2 / y_exp_safe)\n",
    "    \n",
    "    # Gradi di libertà: numero punti - 2 (parametri stimati)\n",
    "    df = len(x) - 2\n",
    "    \n",
    "    # Calcola p-value\n",
    "    p_value = 1 - chi2.cdf(chi_sq_stat, df)\n",
    "    \n",
    "    print(f\"{fascia}: chi2 = {chi_sq_stat:.2f}, df = {df}, p-value = {p_value:.4f}\", end=' ')\n",
    "    if p_value > 0.05:\n",
    "        print(\"- buon fit (non si rifiuta H0)\")\n",
    "    else:\n",
    "        print(\"- fit non buono (si rifiuta H0)\")\n"
   ]
  },
  {
   "cell_type": "code",
   "execution_count": 88,
   "id": "87c10f8c-cd94-4014-ad4f-50b305325ad1",
   "metadata": {},
   "outputs": [
    {
     "name": "stdout",
     "output_type": "stream",
     "text": [
      "Coefficienti regressione (pendenza, intercetta) per fascia (decrescita percentuale):\n",
      "0-999: coefficiente angolare = 0.6035, intercetta = -1165.6547\n",
      "1000-1999: coefficiente angolare = 0.8791, intercetta = -1720.9142\n",
      "2000-2999: coefficiente angolare = 1.0967, intercetta = -2157.5187\n",
      "3000-3999: coefficiente angolare = 1.1032, intercetta = -2171.7023\n",
      "4000-4999: coefficiente angolare = 1.0774, intercetta = -2124.0857\n",
      "5000-5999: coefficiente angolare = 1.2475, intercetta = -2466.7735\n",
      "6000-6999: coefficiente angolare = 1.1285, intercetta = -2226.0343\n",
      "7000-7999: coefficiente angolare = 0.7050, intercetta = -1379.7204\n",
      "8000-8999: coefficiente angolare = 1.2022, intercetta = -2376.1537\n",
      "9000-9999: coefficiente angolare = 2.0629, intercetta = -4103.5889\n"
     ]
    }
   ],
   "source": [
    "\n",
    "print(\"Coefficienti regressione (pendenza, intercetta) per fascia (decrescita percentuale):\")\n",
    "\n",
    "for fascia in labels:\n",
    "    y = decrescita_percentuale[fascia].values.astype(float)\n",
    "    x = decrescita_percentuale.index.astype(int).values\n",
    "    \n",
    "    # Calcolo retta di regressione lineare\n",
    "    coeffs = np.polyfit(x, y, deg=1)\n",
    "    \n",
    "    slope, intercept = coeffs\n",
    "    print(f\"{fascia}: coefficiente angolare = {slope:.4f}, intercetta = {intercept:.4f}\")"
   ]
  },
  {
   "cell_type": "markdown",
   "id": "00032774-3a73-4783-a580-788a44de5800",
   "metadata": {},
   "source": [
    "Dal grafico si vede esplicitamente che il numero di comuni con tasso di crescita negativo aumenta nel corso degli anni. Per i bin associati alle fasce comprese tra 0-5.000 tale decrescita è molto più rapida di quella delle fasce successive, come avevamo ipotizzato precedentemente. Inoltre tale crescita è visibile anche nel fit dei valori percentuali, che significa che l'aumento del numero di tali comuni non è dovuto solo all'aumento del numero assoluto dentro ai bin ma è indice di una inversione nel trend di crescita di alcuni comuni all'interno degli stessi bin."
   ]
  },
  {
   "cell_type": "markdown",
   "id": "311963b3-bf6c-414a-9b88-4289287498ba",
   "metadata": {},
   "source": [
    "### FARE TEST DEL CHI QUADRO PER VERIFICARE LA BONTA' DEL FIT"
   ]
  },
  {
   "cell_type": "code",
   "execution_count": 89,
   "id": "4b5dbdc3-c89a-4d8b-b37b-3e3cb1e3508a",
   "metadata": {},
   "outputs": [
    {
     "name": "stdout",
     "output_type": "stream",
     "text": [
      "Test del chi-quadro per il fit lineare di ciascuna fascia (decrescita assoluta):\n",
      "0-999: chi2 = 1339.14, df = 17, p-value = 0.0000 - fit non buono (si rifiuta H0)\n",
      "1000-1999: chi2 = 967.83, df = 17, p-value = 0.0000 - fit non buono (si rifiuta H0)\n",
      "2000-2999: chi2 = 614.99, df = 17, p-value = 0.0000 - fit non buono (si rifiuta H0)\n",
      "3000-3999: chi2 = 429.50, df = 17, p-value = 0.0000 - fit non buono (si rifiuta H0)\n",
      "4000-4999: chi2 = 296.96, df = 17, p-value = 0.0000 - fit non buono (si rifiuta H0)\n",
      "5000-5999: chi2 = 226.64, df = 17, p-value = 0.0000 - fit non buono (si rifiuta H0)\n",
      "6000-6999: chi2 = 190.70, df = 17, p-value = 0.0000 - fit non buono (si rifiuta H0)\n",
      "7000-7999: chi2 = 145.64, df = 17, p-value = 0.0000 - fit non buono (si rifiuta H0)\n",
      "8000-8999: chi2 = 121.43, df = 17, p-value = 0.0000 - fit non buono (si rifiuta H0)\n",
      "9000-9999: chi2 = 101.10, df = 17, p-value = 0.0000 - fit non buono (si rifiuta H0)\n"
     ]
    }
   ],
   "source": [
    "\n",
    "x = decrescita_time.index.astype(int).values\n",
    "\n",
    "print(\"Test del chi-quadro per il fit lineare di ciascuna fascia (decrescita assoluta):\")\n",
    "\n",
    "for fascia in labels:\n",
    "    y_obs = decrescita_time[fascia].values.astype(float)\n",
    "    \n",
    "    # Fit lineare\n",
    "    coeffs = np.polyfit(x, y_obs, 1)\n",
    "    p = np.poly1d(coeffs)\n",
    "    y_exp = p(x)  # valori attesi/previsione\n",
    "    \n",
    "    # Evita divisioni per zero (usa epsilon piccolo)\n",
    "    epsilon = 1e-6\n",
    "    y_exp_safe = np.where(y_exp < epsilon, epsilon, y_exp)\n",
    "    \n",
    "    # Calcolo statistica chi-quadro\n",
    "    chi_sq_stat = np.sum((y_obs - y_exp_safe) ** 2 / y_exp_safe)\n",
    "    \n",
    "    # Gradi di libertà: numero punti - 2 (parametri stimati)\n",
    "    df = len(x) - 2\n",
    "    \n",
    "    # Calcola p-value\n",
    "    p_value = 1 - chi2.cdf(chi_sq_stat, df)\n",
    "    \n",
    "    print(f\"{fascia}: chi2 = {chi_sq_stat:.2f}, df = {df}, p-value = {p_value:.4f}\", end=' ')\n",
    "    if p_value > 0.05:\n",
    "        print(\"- buon fit (non si rifiuta H0)\")\n",
    "    else:\n",
    "        print(\"- fit non buono (si rifiuta H0)\")\n"
   ]
  },
  {
   "cell_type": "code",
   "execution_count": 90,
   "id": "b624d62b-fda0-4ebf-8838-5f65b702e61e",
   "metadata": {},
   "outputs": [
    {
     "name": "stdout",
     "output_type": "stream",
     "text": [
      "Test del chi-quadro per il fit lineare di ciascuna fascia (decrescita percentuale):\n",
      "0-999: chi2 = 0.95, df = 15, p-value = 1.0000 - buon fit (non si rifiuta H0)\n",
      "1000-1999: chi2 = 1.61, df = 15, p-value = 1.0000 - buon fit (non si rifiuta H0)\n",
      "2000-2999: chi2 = 2.88, df = 15, p-value = 0.9997 - buon fit (non si rifiuta H0)\n",
      "3000-3999: chi2 = 6.96, df = 15, p-value = 0.9587 - buon fit (non si rifiuta H0)\n",
      "4000-4999: chi2 = 2.99, df = 15, p-value = 0.9996 - buon fit (non si rifiuta H0)\n",
      "5000-5999: chi2 = 12.68, df = 15, p-value = 0.6267 - buon fit (non si rifiuta H0)\n",
      "6000-6999: chi2 = 16.95, df = 15, p-value = 0.3218 - buon fit (non si rifiuta H0)\n",
      "7000-7999: chi2 = 13.03, df = 15, p-value = 0.6001 - buon fit (non si rifiuta H0)\n",
      "8000-8999: chi2 = 20.03, df = 15, p-value = 0.1707 - buon fit (non si rifiuta H0)\n",
      "9000-9999: chi2 = 27.77, df = 15, p-value = 0.0230 - fit non buono (si rifiuta H0)\n"
     ]
    }
   ],
   "source": [
    "\n",
    "x = decrescita_percentuale.index.astype(int).values\n",
    "\n",
    "print(\"Test del chi-quadro per il fit lineare di ciascuna fascia (decrescita percentuale):\")\n",
    "\n",
    "for fascia in labels:\n",
    "    y_obs = decrescita_percentuale[fascia].values.astype(float)\n",
    "    \n",
    "    # Fit lineare\n",
    "    coeffs = np.polyfit(x, y_obs, 1)\n",
    "    p = np.poly1d(coeffs)\n",
    "    y_exp = p(x)  # valori attesi/previsione\n",
    "    \n",
    "    # Evita divisioni per zero (usa epsilon piccolo)\n",
    "    epsilon = 1e-6\n",
    "    y_exp_safe = np.where(y_exp < epsilon, epsilon, y_exp)\n",
    "    \n",
    "    # Calcolo statistica chi-quadro\n",
    "    chi_sq_stat = np.sum((y_obs - y_exp_safe) ** 2 / y_exp_safe)\n",
    "    \n",
    "    # Gradi di libertà: numero punti - 2 (parametri stimati)\n",
    "    df = len(x) - 2\n",
    "    \n",
    "    # Calcola p-value\n",
    "    p_value = 1 - chi2.cdf(chi_sq_stat, df)\n",
    "    \n",
    "    print(f\"{fascia}: chi2 = {chi_sq_stat:.2f}, df = {df}, p-value = {p_value:.4f}\", end=' ')\n",
    "    if p_value > 0.05:\n",
    "        print(\"- buon fit (non si rifiuta H0)\")\n",
    "    else:\n",
    "        print(\"- fit non buono (si rifiuta H0)\")\n"
   ]
  },
  {
   "cell_type": "code",
   "execution_count": null,
   "id": "1296fc75-3c3e-4c42-998f-751df97a62de",
   "metadata": {},
   "outputs": [],
   "source": []
  }
 ],
 "metadata": {
  "kernelspec": {
   "display_name": "anaconda-panel-2023.05-py310",
   "language": "python",
   "name": "conda-env-anaconda-panel-2023.05-py310-py"
  },
  "language_info": {
   "codemirror_mode": {
    "name": "ipython",
    "version": 3
   },
   "file_extension": ".py",
   "mimetype": "text/x-python",
   "name": "python",
   "nbconvert_exporter": "python",
   "pygments_lexer": "ipython3",
   "version": "3.11.5"
  }
 },
 "nbformat": 4,
 "nbformat_minor": 5
}
